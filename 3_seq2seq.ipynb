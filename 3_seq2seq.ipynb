{
 "cells": [
  {
   "cell_type": "markdown",
   "id": "e44029ae-95d7-4fcc-a39b-cf07547250d3",
   "metadata": {},
   "source": [
    "Задание:\n",
    "Решить задачу машинного перевода выбрав свой язык:\n",
    "- Формируем датасет с исходного языка на целевой (код прописать в классе)\n",
    "- Строим архитектуру нейронной сети \n",
    "- Обучаем \n",
    "- Проверить качество с помощью метрики BLEU"
   ]
  },
  {
   "cell_type": "markdown",
   "id": "30f2f7ca-f40f-46f9-a862-afbf898b249e",
   "metadata": {},
   "source": [
    "## Формирование датасета"
   ]
  },
  {
   "cell_type": "code",
   "execution_count": 1,
   "id": "c091052c-d1bf-4936-be7e-b8339242d658",
   "metadata": {},
   "outputs": [],
   "source": [
    "import os\n",
    "import re\n",
    "import torch\n",
    "import random\n",
    "import numpy as np\n",
    "import matplotlib.pyplot as plt\n",
    "\n",
    "from torch import nn, optim\n",
    "from torch.utils.data import Dataset, DataLoader\n",
    "from nltk.translate.bleu_score import corpus_bleu, SmoothingFunction\n",
    "from sklearn.model_selection import train_test_split\n",
    "from datasets import load_dataset\n",
    "from typing import List\n",
    "from torch.cuda.amp import GradScaler"
   ]
  },
  {
   "cell_type": "markdown",
   "id": "77722454-d985-4d98-9e76-c6831e160cbc",
   "metadata": {},
   "source": [
    "Зададим воспроизводимость результатов псевдослучайной генерации"
   ]
  },
  {
   "cell_type": "code",
   "execution_count": 2,
   "id": "52c2ad61-0b1b-46ab-989b-c4efbd0e47dc",
   "metadata": {},
   "outputs": [],
   "source": [
    "SEED = 42\n",
    "random.seed(SEED)\n",
    "np.random.seed(SEED)\n",
    "torch.manual_seed(SEED)\n",
    "if torch.cuda.is_available():\n",
    "    torch.cuda.manual_seed(SEED)"
   ]
  },
  {
   "cell_type": "markdown",
   "id": "a496294e-dabc-4124-8397-8846c5505ad4",
   "metadata": {},
   "source": [
    "Определяем настройки"
   ]
  },
  {
   "cell_type": "code",
   "execution_count": 3,
   "id": "8e921562-b814-47d1-a5aa-302a27ac356e",
   "metadata": {},
   "outputs": [],
   "source": [
    "DEVICE = torch.device(\"cuda\" if torch.cuda.is_available() else \"cpu\")\n",
    "BATCH_SIZE = 64  \n",
    "N_EPOCHS = 30\n",
    "CLIP = 1\n",
    "EMB_DIM = 512\n",
    "HIDDEN_DIM = 1024\n",
    "LEARNING_RATE = 0.0005\n",
    "MAX_SEQUENCE_LENGTH = 100  # Ограничение длины последовательности\n",
    "MAX_SAMPLES = 5000  # Уменьшенный размер выборки для экономии памяти"
   ]
  },
  {
   "cell_type": "markdown",
   "id": "42d3d880-bcbc-4cd0-b86d-91b5c7df2b5d",
   "metadata": {},
   "source": [
    "Используем смешанную точность для экономии памяти"
   ]
  },
  {
   "cell_type": "code",
   "execution_count": 4,
   "id": "349578c2-32fd-4695-8ed4-49e9b15c4128",
   "metadata": {},
   "outputs": [],
   "source": [
    "scaler = torch.amp.GradScaler()"
   ]
  },
  {
   "cell_type": "markdown",
   "id": "623681b5-3e86-4452-a21b-eb3a43b79bfd",
   "metadata": {},
   "source": [
    "Определим методы для предобработки текста"
   ]
  },
  {
   "cell_type": "code",
   "execution_count": 5,
   "id": "e51f33da-5668-478f-bd3c-4b1dbfe08507",
   "metadata": {},
   "outputs": [],
   "source": [
    "# Приведение текста к нижнему регистру и удаление пунктуации\n",
    "\n",
    "def preprocess_text(text: str) -> str:\n",
    "    text = text.lower().strip()\n",
    "    text = re.sub(r\"[^\\w\\s]\", \"\", text)\n",
    "    return text"
   ]
  },
  {
   "cell_type": "code",
   "execution_count": 6,
   "id": "e1306ebf-1afa-4744-b29b-8d79c91a9e56",
   "metadata": {},
   "outputs": [],
   "source": [
    "#  Обрезка длины последовательности до max_length\n",
    "\n",
    "def truncate_sequence(sequence: List[int], max_length: int = MAX_SEQUENCE_LENGTH):\n",
    "    if len(sequence) > max_length:\n",
    "        return sequence[:max_length]\n",
    "    return sequence"
   ]
  },
  {
   "cell_type": "code",
   "execution_count": 7,
   "id": "fdd47b01-4a2b-467a-a8af-251b45bf00ac",
   "metadata": {},
   "outputs": [],
   "source": [
    "# Построение словаря из токенов\n",
    "\n",
    "# <PAD>: Используется для дополнения последовательностей до одинаковой длины.\n",
    "# <SOS>: Начальный токен (Start Of Sequence).\n",
    "# <EOS>: Конечный токен (End Of Sequence).\n",
    "# <UNK>: Токен для неизвестных слов (Unknown)\n",
    "\n",
    "def build_vocab(sentences: List[str], reserved_tokens: List[str] = [\"<PAD>\", \"<SOS>\", \"<EOS>\", \"<UNK>\"]) -> dict:\n",
    "    # Создаем словарь, инициализируя его зарезервированными токенами с их индексами\n",
    "    vocab = {token: idx for idx, token in enumerate(reserved_tokens)}\n",
    "    current_index = len(vocab)  # Устанавливаем текущий индекс для новых слов, начиная с конца зарезервированных токенов\n",
    "    \n",
    "    # Проходим по каждому предложению в списке предложений\n",
    "    for sentence in sentences:\n",
    "        # Разделяем предложение на слова\n",
    "        for word in sentence.split():\n",
    "            # Если слово еще не в словаре, добавляем его с текущим индексом\n",
    "            if word not in vocab:\n",
    "                vocab[word] = current_index\n",
    "                current_index += 1  # Увеличиваем индекс для следующего слова\n",
    "    \n",
    "    return vocab  # Возвращаем построенный словарь"
   ]
  },
  {
   "cell_type": "code",
   "execution_count": 8,
   "id": "1b70b9d9-958d-4559-ad84-a21cec78c824",
   "metadata": {},
   "outputs": [],
   "source": [
    "# Токенизация предложения: добавление токенов <SOS> и <EOS>\n",
    "\n",
    "def tokenize_sentence(sentence: str, vocab: dict, sos_token=\"<SOS>\", eos_token=\"<EOS>\") -> List[int]:\n",
    "    # Создаем список токенов, начиная с токена начала последовательности (sos_token)\n",
    "    # Затем добавляем токены для каждого слова в предложении, используя словарь vocab\n",
    "    # Если слово не найдено в словаре, используем токен для неизвестных слов (<UNK>)\n",
    "    tokens = [vocab[sos_token]] + [vocab.get(word, vocab[\"<UNK>\"]) for word in sentence.split()] + [vocab[eos_token]]\n",
    "    \n",
    "    return tokens  # Возвращаем список токенов, включая <SOS> и <EOS>"
   ]
  },
  {
   "cell_type": "markdown",
   "id": "4f7b3585-51ac-4485-ab2e-52e3f330daa0",
   "metadata": {},
   "source": [
    "Опишем датасет в классе"
   ]
  },
  {
   "cell_type": "code",
   "execution_count": 9,
   "id": "c763a885-4c8a-4aee-a19f-f8871b838c2a",
   "metadata": {},
   "outputs": [],
   "source": [
    "class TranslationDataset(Dataset):\n",
    "    def __init__(self, source_sentences: List[str], target_sentences: List[str], source_vocab: dict, target_vocab: dict):\n",
    "        # Инициализация объекта TranslationDataset с исходными и целевыми предложениями и соответствующими словарями\n",
    "        self.source_sentences = source_sentences  # Список исходных предложений\n",
    "        self.target_sentences = target_sentences  # Список целевых предложений\n",
    "        self.source_vocab = source_vocab  # Словарь для преобразования исходных предложений в токены\n",
    "        self.target_vocab = target_vocab  # Словарь для преобразования целевых предложений в токены\n",
    "\n",
    "    def __len__(self):\n",
    "        # Возвращает количество предложений в наборе данных\n",
    "        return len(self.source_sentences)\n",
    "\n",
    "    def __getitem__(self, idx):\n",
    "        # Получает токенизированные и обрезанные исходное и целевое предложения по индексу\n",
    "        source = truncate_sequence(tokenize_sentence(self.source_sentences[idx], self.source_vocab))\n",
    "        target = truncate_sequence(tokenize_sentence(self.target_sentences[idx], self.target_vocab))\n",
    "        \n",
    "        # Возвращает исходное и целевое предложения в виде тензоров типа long\n",
    "        return torch.tensor(source, dtype=torch.long), torch.tensor(target, dtype=torch.long)"
   ]
  },
  {
   "cell_type": "markdown",
   "id": "0b5119b8-9909-4065-8c4d-d2893b2fe623",
   "metadata": {},
   "source": [
    "Определим функцию для обработки батчей"
   ]
  },
  {
   "cell_type": "code",
   "execution_count": 10,
   "id": "c32a84da-ee45-4220-abe1-35916586663e",
   "metadata": {},
   "outputs": [],
   "source": [
    "def collate_fn(batch):\n",
    "    # Разделяем батч на списки исходных и целевых последовательностей\n",
    "    sources, targets = zip(*batch)\n",
    "    \n",
    "    # Паддинг исходных последовательностей до одинаковой длины с использованием значения <PAD> = 0\n",
    "    source_padded = torch.nn.utils.rnn.pad_sequence(sources, batch_first=True, padding_value=0)  # <PAD> = 0\n",
    "    \n",
    "    # Паддинг целевых последовательностей до одинаковой длины с использованием значения <PAD> = 0\n",
    "    target_padded = torch.nn.utils.rnn.pad_sequence(targets, batch_first=True, padding_value=0)\n",
    "    \n",
    "    # Возвращаем паддированные исходные и целевые последовательности\n",
    "    return source_padded, target_padded"
   ]
  },
  {
   "cell_type": "markdown",
   "id": "98aa70de-5cf2-4cb9-8d1d-711cebc1ea89",
   "metadata": {},
   "source": [
    "## Строим архитектуру нейронной сети"
   ]
  },
  {
   "cell_type": "markdown",
   "id": "7e0d69af-f1dd-4d7d-a86a-258fe8d3928e",
   "metadata": {},
   "source": [
    "###  Encoder"
   ]
  },
  {
   "cell_type": "code",
   "execution_count": 11,
   "id": "d9c7f3f2-30d8-4500-90a6-04f98b268d86",
   "metadata": {},
   "outputs": [],
   "source": [
    "class Encoder(nn.Module):\n",
    "    def __init__(self, input_dim: int, emb_dim: int, hidden_dim: int, dropout: float = 0.3):\n",
    "        # Инициализация объекта Encoder\n",
    "        super(Encoder, self).__init__()\n",
    "        \n",
    "        # Эмбеддинг для преобразования входных токенов в векторы фиксированной размерности\n",
    "        self.embedding = nn.Embedding(input_dim, emb_dim)\n",
    "        \n",
    "        # LSTM-слой для обработки последовательностей\n",
    "        self.rnn = nn.LSTM(emb_dim, hidden_dim, batch_first=True)\n",
    "        \n",
    "        # Слой дропаута для регуляризации\n",
    "        self.dropout = nn.Dropout(dropout)\n",
    "\n",
    "    def forward(self, src):\n",
    "        # Применяем эмбеддинг и дроп-аут к входным данным\n",
    "        embedded = self.dropout(self.embedding(src))\n",
    "        \n",
    "        # Пропускаем эмбеддинги через LSTM и получаем скрытое состояние и ячейку\n",
    "        _, (hidden, cell) = self.rnn(embedded)\n",
    "        \n",
    "        # Возвращаем скрытое состояние и ячейку для последующего декодирования\n",
    "        return hidden, cell"
   ]
  },
  {
   "cell_type": "markdown",
   "id": "9704c14c-024e-40b7-b6b0-64f47351731b",
   "metadata": {},
   "source": [
    "### Decoder"
   ]
  },
  {
   "cell_type": "code",
   "execution_count": 12,
   "id": "5c37a6da-c882-45cd-93d3-3d5d6be15eb3",
   "metadata": {},
   "outputs": [],
   "source": [
    "class Decoder(nn.Module):\n",
    "    def __init__(self, output_dim: int, emb_dim: int, hidden_dim: int, dropout: float = 0.3):\n",
    "        # Инициализация объекта Decoder\n",
    "        super(Decoder, self).__init__()\n",
    "        \n",
    "        # Эмбеддинг для преобразования выходных токенов в векторы фиксированной размерности\n",
    "        self.embedding = nn.Embedding(output_dim, emb_dim)\n",
    "        \n",
    "        # LSTM-слой для обработки последовательностей\n",
    "        self.rnn = nn.LSTM(emb_dim, hidden_dim, batch_first=True)\n",
    "        \n",
    "        # Полносвязный слой для преобразования выходного скрытого состояния в размерность выходных токенов\n",
    "        self.fc = nn.Linear(hidden_dim, output_dim)\n",
    "        \n",
    "        # Слой дропаута для регуляризации\n",
    "        self.dropout = nn.Dropout(dropout)\n",
    "\n",
    "    def forward(self, trg, hidden):\n",
    "        # Применяем эмбеддинг и дроп-аут к входным данным\n",
    "        embedded = self.dropout(self.embedding(trg))\n",
    "        \n",
    "        # Пропускаем эмбеддинги через LSTM и получаем выход и обновленное скрытое состояние\n",
    "        output, (hidden, cell) = self.rnn(embedded, hidden)\n",
    "        \n",
    "        # Применяем полносвязный слой к выходу LSTM для получения предсказаний\n",
    "        output = self.fc(output)\n",
    "        \n",
    "        # Возвращаем выход и обновленное скрытое состояние и ячейку\n",
    "        return output, (hidden, cell)"
   ]
  },
  {
   "cell_type": "markdown",
   "id": "a21539e5-6893-4a6a-afe7-6dff4c9250dd",
   "metadata": {},
   "source": [
    "### Seq2Seq модель"
   ]
  },
  {
   "cell_type": "code",
   "execution_count": 13,
   "id": "2665c646-7aba-4ab5-8c5c-b98698e8e14c",
   "metadata": {},
   "outputs": [],
   "source": [
    "class Seq2Seq(nn.Module):\n",
    "    # Инициализация класса Seq2Seq\n",
    "    def __init__(self, encoder: Encoder, decoder: Decoder, device: torch.device):\n",
    "        super(Seq2Seq, self).__init__()\n",
    "        self.encoder = encoder  # Инициализация кодировщика\n",
    "        self.decoder = decoder  # Инициализация декодировщика\n",
    "        self.device = device  # Устройство (CPU или GPU), на котором будет выполняться модель\n",
    " \n",
    "    # Метод прямого прохода (forward) для модели Seq2Seq\n",
    "    def forward(self, src, trg, teacher_forcing_ratio: float = 0.5):\n",
    "        src = src.to(self.device)  # Перемещение входных данных (src) на нужное устройство\n",
    "        trg = trg.to(self.device)  # Перемещение целевых данных (trg) на нужное устройство\n",
    "        batch_size, trg_len = trg.size()  # Получаем размер пакета и длину целевых последовательностей\n",
    "        output_dim = self.decoder.fc.out_features  # Получаем размер выходного слоя декодировщика\n",
    "        outputs = torch.zeros(batch_size, trg_len, output_dim, device=self.device)  # Инициализация тензора для хранения выходов\n",
    "\n",
    "        hidden, cell = self.encoder(src)  # Получаем скрытые состояния и ячейки от кодировщика\n",
    "        input = trg[:, 0]  # Устанавливаем первый токен (обычно <SOS>) в качестве входа для декодера\n",
    "\n",
    "        # Проходим по всем временным шагам целевой последовательности\n",
    "        for t in range(1, trg_len):\n",
    "            # Выполняем шаг декодирования\n",
    "            output, (hidden, cell) = self.decoder(input.unsqueeze(1), (hidden, cell))\n",
    "            outputs[:, t, :] = output.squeeze(1)  # Сохраняем выход декодера в тензор outputs\n",
    "\n",
    "            # Определяем, использовать ли teacher forcing\n",
    "            teacher_force = random.random() < teacher_forcing_ratio\n",
    "            # Если используем teacher forcing, берем следующий токен из целевой последовательности, иначе - предсказанный токен\n",
    "            input = trg[:, t] if teacher_force else output.argmax(2).squeeze(1)\n",
    "\n",
    "        return outputs  # Возвращаем все выходные данные декодера"
   ]
  },
  {
   "cell_type": "markdown",
   "id": "e7ec922c-86ae-42fa-8950-d3706a4301df",
   "metadata": {},
   "source": [
    "## Обучаем модель"
   ]
  },
  {
   "cell_type": "code",
   "execution_count": 14,
   "id": "c80f3387-11d3-44bd-92d1-e9a4fc6a4b3e",
   "metadata": {},
   "outputs": [],
   "source": [
    "def train_with_amp(model: Seq2Seq, iterator: DataLoader, optimizer: optim.Optimizer, criterion: nn.Module, clip: float):\n",
    "    # Устанавливаем модель в режим обучения\n",
    "    model.train()\n",
    "    epoch_loss = 0  # Инициализируем переменную для хранения потерь за эпоху\n",
    "\n",
    "    # Проходим по данным в итераторе (пакетам)\n",
    "    for src, trg in iterator:\n",
    "        src, trg = src.to(model.device), trg.to(model.device)  # Перемещаем данные на нужное устройство (GPU/CPU)\n",
    "\n",
    "        optimizer.zero_grad()  # Обнуляем градиенты оптимизатора перед новой итерацией\n",
    "\n",
    "        # Используем автоматическое смешивание точности (AMP) для повышения производительности\n",
    "        with torch.amp.autocast(device_type='cuda'):\n",
    "            output = model(src, trg)  # Получаем выход модели\n",
    "            output_dim = output.shape[-1]  # Получаем размер выходного слоя\n",
    "            trg = trg[:, 1:].reshape(-1)  # Убираем токен начала последовательности и изменяем форму целевых данных\n",
    "            output = output[:, 1:].reshape(-1, output_dim)  # Убираем токен начала последовательности из выходов\n",
    "\n",
    "            loss = criterion(output, trg)  # Вычисляем потери\n",
    "\n",
    "        # Масштабируем потери и выполняем обратное распространение\n",
    "        scaler.scale(loss).backward()\n",
    "        scaler.unscale_(optimizer)  # Отменяем масштабирование градиентов\n",
    "        torch.nn.utils.clip_grad_norm_(model.parameters(), clip)  # Обрезаем градиенты для предотвращения их разрастания\n",
    "        scaler.step(optimizer)  # Обновляем параметры модели\n",
    "        scaler.update()  # Обновляем масштабирование для следующей итерации\n",
    "\n",
    "        epoch_loss += loss.item()  # Суммируем потери за эпоху\n",
    "\n",
    "    # Возвращаем средние потери за эпоху\n",
    "    return epoch_loss / len(iterator)"
   ]
  },
  {
   "cell_type": "markdown",
   "id": "dc710942-b1a6-411a-8591-545a15a32a37",
   "metadata": {},
   "source": [
    "## Оценка модели"
   ]
  },
  {
   "cell_type": "code",
   "execution_count": 15,
   "id": "82c4e66a-ee1a-455e-bbea-a043b2166dde",
   "metadata": {},
   "outputs": [],
   "source": [
    "\n",
    "def evaluate(model: Seq2Seq, iterator: DataLoader, criterion: nn.Module):\n",
    "    # Устанавливаем модель в режим оценки\n",
    "    model.eval()\n",
    "    epoch_loss = 0  # Инициализируем переменную для хранения потерь за эпоху\n",
    "    predictions, references = [], []  # Списки для хранения предсказаний и эталонных значений\n",
    "    smoothing_function = SmoothingFunction().method4  # Функция сглаживания для BLEU\n",
    "\n",
    "    # Отключаем вычисление градиентов для экономии памяти\n",
    "    with torch.no_grad():\n",
    "        # Проходим по данным в итераторе (пакетам)\n",
    "        for src, trg in iterator:\n",
    "            # Перемещаем данные на устройство (GPU/CPU)\n",
    "            src, trg = src.to(model.device), trg.to(model.device)\n",
    "\n",
    "            # Получаем предсказания модели, отключая teacher forcing\n",
    "            output = model(src, trg, teacher_forcing_ratio=0.0)\n",
    "            # Находим индексы токенов с максимальной вероятностью\n",
    "            preds = output.argmax(2).cpu().tolist()  # Переводим на CPU и в список\n",
    "            trg = trg.cpu().tolist()  # Также переводим целевые данные на CPU и в список\n",
    "\n",
    "            # Обрабатываем предсказания и эталонные значения\n",
    "            for pred, ref in zip(preds, trg):\n",
    "                # Убираем заполнители (токены с индексом 0) из предсказаний и эталонов\n",
    "                pred = [token for token in pred if token != 0]\n",
    "                ref = [token for token in ref if token != 0]\n",
    "                # Если эталонное значение не пустое, добавляем его в списки\n",
    "                if len(ref) > 0:\n",
    "                    predictions.append(pred)\n",
    "                    references.append([ref])  # Добавляем эталон в формате списка\n",
    "\n",
    "            # Подготавливаем данные для расчета потерь\n",
    "            trg = torch.tensor(trg, device=model.device)  # Переводим целевые данные обратно в тензор\n",
    "            trg = trg[:, 1:].reshape(-1)  # Убираем токен начала последовательности и изменяем форму\n",
    "            output = output[:, 1:].reshape(-1, output.shape[-1])  # Убираем токен начала последовательности из выходов\n",
    "\n",
    "            # Вычисляем потери\n",
    "            loss = criterion(output, trg)\n",
    "            epoch_loss += loss.item()  # Суммируем потери за эпоху\n",
    "\n",
    "    # Вычисляем BLEU-оценку для предсказаний\n",
    "    bleu_score = corpus_bleu(references, predictions, smoothing_function=smoothing_function)\n",
    "    # Возвращаем средние потери за эпоху и BLEU-оценку\n",
    "    return epoch_loss / len(iterator), bleu_score\n"
   ]
  },
  {
   "cell_type": "markdown",
   "id": "54c2bf31-4ed3-4c07-9e98-1daeaae7ab63",
   "metadata": {},
   "source": [
    "## Проверяем качество модели "
   ]
  },
  {
   "cell_type": "markdown",
   "id": "5e39d017-1273-4806-ad77-8defeab495d9",
   "metadata": {},
   "source": [
    "Загружаем данные "
   ]
  },
  {
   "cell_type": "code",
   "execution_count": 16,
   "id": "17867c69-011a-459c-bd12-474d9a00cf73",
   "metadata": {},
   "outputs": [],
   "source": [
    "# Загружаем датасет opus100 из Hugging Face\n",
    "dataset = load_dataset(\"opus100\", \"en-ru\")\n",
    "\n",
    "# Предобрабатываем английские предложения и выбираем первые MAX_SAMPLES\n",
    "source_sentences = [preprocess_text(item[\"translation\"][\"en\"]) for item in dataset[\"train\"]][:MAX_SAMPLES]\n",
    "\n",
    "# Предобрабатываем русские предложения и выбираем первые MAX_SAMPLES\n",
    "target_sentences = [preprocess_text(item[\"translation\"][\"ru\"]) for item in dataset[\"train\"]][:MAX_SAMPLES]\n",
    "\n",
    "# Создаем словарь для английских предложений на основе предобработанных данных\n",
    "source_vocab = build_vocab(source_sentences)\n",
    "\n",
    "# Создаем словарь для русских предложений на основе предобработанных данных\n",
    "target_vocab = build_vocab(target_sentences)\n",
    "\n",
    "# Разделяем данные на обучающую и валидационную выборки (80% на обучение, 20% на валидацию)\n",
    "train_src, val_src, train_trg, val_trg = train_test_split(source_sentences, target_sentences, test_size=0.2)\n",
    "\n",
    "# Создаем обучающий датасет для перевода с использованием предобработанных предложений и словарей\n",
    "train_dataset = TranslationDataset(train_src, train_trg, source_vocab, target_vocab)\n",
    "\n",
    "# Создаем валидационный датасет для перевода с использованием предобработанных предложений и словарей\n",
    "val_dataset = TranslationDataset(val_src, val_trg, source_vocab, target_vocab)\n",
    "\n",
    "# Создаем загрузчик данных для обучающего датасета с заданным размером пакета и перемешиванием данных\n",
    "train_loader = DataLoader(train_dataset, batch_size=BATCH_SIZE, shuffle=True, collate_fn=collate_fn)\n",
    "\n",
    "# Создаем загрузчик данных для валидационного датасета с заданным размером пакета\n",
    "val_loader = DataLoader(val_dataset, batch_size=BATCH_SIZE, collate_fn=collate_fn)"
   ]
  },
  {
   "cell_type": "markdown",
   "id": "858b0c8e-fe43-43f5-ac2d-978623c6a807",
   "metadata": {},
   "source": [
    "Модель"
   ]
  },
  {
   "cell_type": "code",
   "execution_count": 17,
   "id": "50183b5a-a435-4b9d-86ce-16d3b852614f",
   "metadata": {},
   "outputs": [],
   "source": [
    "# Создаем экземпляр энкодера с размером входного словаря, размером эмбеддинга и размером скрытого состояния\n",
    "encoder = Encoder(len(source_vocab), EMB_DIM, HIDDEN_DIM).to(DEVICE)\n",
    "\n",
    "# Создаем экземпляр декодера с размером выходного словаря, размером эмбеддинга и размером скрытого состояния\n",
    "decoder = Decoder(len(target_vocab), EMB_DIM, HIDDEN_DIM).to(DEVICE)\n",
    "\n",
    "# Создаем модель Seq2Seq, передавая в нее энкодер и декодер, а также устройство (GPU/CPU)\n",
    "model = Seq2Seq(encoder, decoder, DEVICE).to(DEVICE)\n",
    "\n",
    "# Настраиваем оптимизатор Adam для модели с заданной скоростью обучения и весом распада\n",
    "optimizer = optim.Adam(model.parameters(), lr=LEARNING_RATE, weight_decay=5e-4)  # Значение weight_decay можно настроить для регуляризации\n",
    "\n",
    "# Определяем функцию потерь - кросс-энтропия, игнорируя индекс 0 (обычно используется для паддинга)\n",
    "criterion = nn.CrossEntropyLoss(ignore_index=0)"
   ]
  },
  {
   "cell_type": "markdown",
   "id": "c647f6a5-de92-417e-88cf-21826a9857b4",
   "metadata": {},
   "source": [
    "Обучаем модель"
   ]
  },
  {
   "cell_type": "code",
   "execution_count": 18,
   "id": "fab2d387-17e7-4c79-83cd-332b521bbbbc",
   "metadata": {},
   "outputs": [
    {
     "name": "stdout",
     "output_type": "stream",
     "text": [
      "Epoch 1 | Train Loss: 7.8751 | Val Loss: 7.6200 | BLEU: 0.0001\n",
      "Epoch 2 | Train Loss: 7.2997 | Val Loss: 7.6273 | BLEU: 0.0001\n",
      "Epoch 3 | Train Loss: 7.1900 | Val Loss: 7.6288 | BLEU: 0.0001\n",
      "Epoch 4 | Train Loss: 7.0990 | Val Loss: 7.6698 | BLEU: 0.0002\n",
      "Epoch 5 | Train Loss: 7.0281 | Val Loss: 7.6814 | BLEU: 0.0001\n",
      "Epoch 6 | Train Loss: 6.9397 | Val Loss: 7.6710 | BLEU: 0.0001\n",
      "Epoch 7 | Train Loss: 6.8439 | Val Loss: 7.6587 | BLEU: 0.0002\n",
      "Epoch 8 | Train Loss: 6.7294 | Val Loss: 7.6383 | BLEU: 0.0002\n",
      "Epoch 9 | Train Loss: 6.6137 | Val Loss: 7.6490 | BLEU: 0.0002\n",
      "Epoch 10 | Train Loss: 6.5032 | Val Loss: 7.6530 | BLEU: 0.0002\n",
      "Epoch 11 | Train Loss: 6.3943 | Val Loss: 7.6469 | BLEU: 0.0003\n",
      "Epoch 12 | Train Loss: 6.2991 | Val Loss: 7.6477 | BLEU: 0.0002\n",
      "Epoch 13 | Train Loss: 6.1838 | Val Loss: 7.6454 | BLEU: 0.0002\n",
      "Epoch 14 | Train Loss: 6.1013 | Val Loss: 7.6500 | BLEU: 0.0005\n",
      "Epoch 15 | Train Loss: 5.9952 | Val Loss: 7.6541 | BLEU: 0.0002\n",
      "Epoch 16 | Train Loss: 5.9380 | Val Loss: 7.6714 | BLEU: 0.0002\n",
      "Epoch 17 | Train Loss: 5.8404 | Val Loss: 7.6669 | BLEU: 0.0004\n",
      "Epoch 18 | Train Loss: 5.7721 | Val Loss: 7.6703 | BLEU: 0.0005\n",
      "Epoch 19 | Train Loss: 5.6974 | Val Loss: 7.6946 | BLEU: 0.0004\n",
      "Epoch 20 | Train Loss: 5.6385 | Val Loss: 7.6702 | BLEU: 0.0008\n",
      "Epoch 21 | Train Loss: 5.5533 | Val Loss: 7.6816 | BLEU: 0.0010\n",
      "Epoch 22 | Train Loss: 5.5055 | Val Loss: 7.6806 | BLEU: 0.0006\n",
      "Epoch 23 | Train Loss: 5.4473 | Val Loss: 7.7028 | BLEU: 0.0011\n",
      "Epoch 24 | Train Loss: 5.3868 | Val Loss: 7.6865 | BLEU: 0.0012\n",
      "Epoch 25 | Train Loss: 5.3559 | Val Loss: 7.6938 | BLEU: 0.0013\n",
      "Epoch 26 | Train Loss: 5.2956 | Val Loss: 7.6827 | BLEU: 0.0013\n",
      "Epoch 27 | Train Loss: 5.2529 | Val Loss: 7.6734 | BLEU: 0.0014\n",
      "Epoch 28 | Train Loss: 5.1987 | Val Loss: 7.6958 | BLEU: 0.0014\n",
      "Epoch 29 | Train Loss: 5.1693 | Val Loss: 7.6927 | BLEU: 0.0015\n",
      "Epoch 30 | Train Loss: 5.1296 | Val Loss: 7.6733 | BLEU: 0.0016\n"
     ]
    }
   ],
   "source": [
    "# Инициализируем списки для хранения значений потерь на обучающем и валидационном наборах, а также для BLEU-оценок\n",
    "train_losses, val_losses, bleu_scores = [], [], []\n",
    "\n",
    "# Запускаем цикл обучения на заданное количество эпох\n",
    "for epoch in range(N_EPOCHS):\n",
    "    torch.cuda.empty_cache()  # Очищаем кэш GPU для предотвращения переполнения памяти\n",
    "\n",
    "    # Обучаем модель на текущей эпохе с использованием автоматического смешанного точности (AMP) для повышения производительности\n",
    "    train_loss = train_with_amp(model, train_loader, optimizer, criterion, CLIP)  # CLIP используется для ограничения (или обрезки) градиентов во время обучения модели\n",
    "    \n",
    "    # Оцениваем модель на валидационном наборе данных и получаем значение потерь и BLEU-оценку\n",
    "    val_loss, bleu = evaluate(model, val_loader, criterion)\n",
    "\n",
    "    # Сохраняем значения потерь и BLEU-оценок для текущей эпохи\n",
    "    train_losses.append(train_loss)\n",
    "    val_losses.append(val_loss)\n",
    "    bleu_scores.append(bleu)\n",
    "\n",
    "    # Выводим результаты текущей эпохи в консоль\n",
    "    print(f\"Epoch {epoch+1} | Train Loss: {train_loss:.4f} | Val Loss: {val_loss:.4f} | BLEU: {bleu:.4f}\")\n"
   ]
  },
  {
   "cell_type": "markdown",
   "id": "785914e4-3ba2-4d5c-a1f5-899b843f4634",
   "metadata": {},
   "source": [
    "1. Train Loss: Значение Train Loss постепенно уменьшается с каждой эпохой, модель обучается и улучшает свои предсказания на тренировочных данных.\n",
    "\n",
    "2. Val Loss: Значения Val Loss колеблются, но в целом остаются на высоком уровне. В начале обучения (эпохи 1-10) Val Loss сначала понижается, но затем начинает расти и колебаться вокруг значения 7.6-7.7. Это может указывать на то, что модель начинает переобучаться, так как Train Loss продолжает снижаться, а Val Loss не показывает стабильного улучшения. Хотя мы ввели и drop out, и L2 регуляризации.\n",
    "\n",
    "3. BLEU Score: Значения BLEU остаются невысокими в течение всего обучения, начиная с 0.0001 и достигая 0.0016 к 30-й эпохе. Это говорит о том, что качество предсказаний модели по сравнению с реальными данными остается низким."
   ]
  },
  {
   "cell_type": "markdown",
   "id": "bde88552-0cd5-4b1e-ac4c-249cc4e4f0ec",
   "metadata": {},
   "source": [
    "Строим графики"
   ]
  },
  {
   "cell_type": "code",
   "execution_count": 19,
   "id": "57bbf926-3967-40ef-b53b-ebb7dda23a39",
   "metadata": {},
   "outputs": [
    {
     "data": {
      "image/png": "[encoded data removed]",
      "text/plain": [
       "<Figure size 1200x400 with 2 Axes>"
      ]
     },
     "metadata": {},
     "output_type": "display_data"
    }
   ],
   "source": [
    "plt.figure(figsize=(12, 4))\n",
    "plt.subplot(1, 2, 1)\n",
    "plt.plot(train_losses, label=\"Train Loss\")\n",
    "plt.plot(val_losses, label=\"Validation Loss\", color=\"orange\")\n",
    "plt.legend()\n",
    "plt.subplot(1, 2, 2)\n",
    "plt.plot(bleu_scores, label=\"BLEU\", color=\"green\")\n",
    "plt.legend()\n",
    "plt.show()"
   ]
  },
  {
   "cell_type": "markdown",
   "id": "ecfb5b8f-6678-4cc8-ba9f-ddf5cfe0f244",
   "metadata": {},
   "source": [
    "Выводы:\n",
    "1. Настройка гиперпараметров: Возможно, стоит провести настройку гиперпараметров, таких как скорость обучения или архитектура модели. Это может помочь улучшить результаты на валидационных данных.\n",
    "\n",
    "2. Проблемы с данными: Если BLEU Score остается низким, возможно, стоит рассмотреть возможность увеличения объема данных или улучшения их качества, однако в условиях домашки не представляется возможным..\n",
    "\n",
    "3. В целом, результаты показывают, что модель обучается, но качество предсказаний остается не высоким. Необходимо провести дополнительные эксперименты и анализ, чтобы улучшить производительность модели."
   ]
  },
  {
   "cell_type": "code",
   "execution_count": null,
   "id": "6006118f-229f-4dc1-b8a5-604e3703160b",
   "metadata": {},
   "outputs": [],
   "source": []
  }
 ],
 "metadata": {
  "kernelspec": {
   "display_name": "Python 3 (ipykernel)",
   "language": "python",
   "name": "python3"
  },
  "language_info": {
   "codemirror_mode": {
    "name": "ipython",
    "version": 3
   },
   "file_extension": ".py",
   "mimetype": "text/x-python",
   "name": "python",
   "nbconvert_exporter": "python",
   "pygments_lexer": "ipython3",
   "version": "3.12.4"
  }
 },
 "nbformat": 4,
 "nbformat_minor": 5
}
